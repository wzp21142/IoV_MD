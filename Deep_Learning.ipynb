{
 "cells": [
  {
   "cell_type": "code",
   "execution_count": 1,
   "metadata": {},
   "outputs": [],
   "source": [
    "from tensorflow.keras import *\n",
    "import matplotlib.pyplot as plt\n",
    "import numpy as np\n",
    "import os\n",
    "import pandas as pd\n",
    "import tensorflow as tf"
   ]
  },
  {
   "cell_type": "code",
   "execution_count": 2,
   "outputs": [],
   "source": [
    "data_path = 'J:/VeReMi-Dataset/000_Select_data'\n",
    "os.chdir(data_path)"
   ],
   "metadata": {
    "collapsed": false,
    "pycharm": {
     "name": "#%%\n"
    }
   }
  },
  {
   "cell_type": "code",
   "execution_count": 3,
   "outputs": [],
   "source": [
    "testX_regularized=np.load('testX_processed.npy')\n",
    "testY=np.load('testY_processed.npy')\n",
    "trainX_regularized=np.load('trainX_processed.npy')\n",
    "trainY=np.load('trainY_processed.npy')\n",
    "valX_regularized=np.load('valX_processed.npy')\n",
    "valY=np.load('valY_processed.npy')"
   ],
   "metadata": {
    "collapsed": false,
    "pycharm": {
     "name": "#%%\n"
    }
   }
  },
  {
   "cell_type": "code",
   "execution_count": 4,
   "outputs": [],
   "source": [
    "def get_info(bucket_list, data_array):\n",
    "    info_list=['type','rcvTime','pos','pos_noise','spd','spd_noise','acl','acl_noise','hed','hed_noise','sendTime','sender','senderPseudo']\n",
    "    pos_list=[0,1,[2,3,4],[5,6,7],[8,9,10],[11,12,13],[14,15,16],[17,18,19],[20,21,22],[23,24,25],26,27,28,29]\n",
    "    bucket_pos=[]\n",
    "    for loc_buc in range(len(bucket_list)):\n",
    "        for loc_info in range(len(info_list)):\n",
    "            if bucket_list[loc_buc]==info_list[loc_info]:\n",
    "                if isinstance(pos_list[loc_info],int):\n",
    "                    bucket_pos.append(pos_list[loc_info])\n",
    "                else:\n",
    "                    for t in pos_list[loc_info]:\n",
    "                        bucket_pos.append(t)\n",
    "    # print(bucket_pos)\n",
    "    result = np.empty([data_array.shape[0],len(bucket_pos)], dtype = np.float64)\n",
    "    col_cnt=0\n",
    "    for i in bucket_pos:\n",
    "        row_cnt=0\n",
    "        for j in data_array:\n",
    "            result[row_cnt][col_cnt]=j[i]\n",
    "            row_cnt+=1\n",
    "        col_cnt+=1\n",
    "    return result\n",
    "# t=get_info(['type','rcvTime','pos'],valX_regularized)"
   ],
   "metadata": {
    "collapsed": false,
    "pycharm": {
     "name": "#%%\n"
    }
   }
  },
  {
   "cell_type": "code",
   "execution_count": 5,
   "outputs": [
    {
     "ename": "TypeError",
     "evalue": "get_info() missing 2 required positional arguments: 'bucket_list' and 'data_array'",
     "output_type": "error",
     "traceback": [
      "\u001B[1;31m---------------------------------------------------------------------------\u001B[0m",
      "\u001B[1;31mTypeError\u001B[0m                                 Traceback (most recent call last)",
      "\u001B[1;32m<ipython-input-5-8f1d0bc4d429>\u001B[0m in \u001B[0;36m<module>\u001B[1;34m\u001B[0m\n\u001B[1;32m----> 1\u001B[1;33m \u001B[0mget_info\u001B[0m\u001B[1;33m(\u001B[0m\u001B[1;33m)\u001B[0m\u001B[1;33m\u001B[0m\u001B[1;33m\u001B[0m\u001B[0m\n\u001B[0m\u001B[0;32m      2\u001B[0m \u001B[1;33m\u001B[0m\u001B[0m\n",
      "\u001B[1;31mTypeError\u001B[0m: get_info() missing 2 required positional arguments: 'bucket_list' and 'data_array'"
     ]
    }
   ],
   "source": [
    "get_info(,)"
   ],
   "metadata": {
    "collapsed": false,
    "pycharm": {
     "name": "#%%\n"
    }
   }
  },
  {
   "cell_type": "code",
   "execution_count": null,
   "outputs": [],
   "source": [
    "model = Sequential()\n",
    "model.add(layers.Dense(30,activation='relu',input_shape=[30]))\n",
    "\n",
    "model.add(layers.Dropout(0.8))\n",
    "model.add(layers.Dense(16,activation='relu'))\n",
    "model.add(layers.Dropout(0.8))\n",
    "model.add(layers.Dense(2, activation='sigmoid'))\n",
    "model.compile(optimizer=optimizers.Adam(),\n",
    "              loss=losses.binary_crossentropy,\n",
    "              metrics=['accuracy',metrics.Precision(),metrics.Recall(),metrics.F1])"
   ],
   "metadata": {
    "collapsed": false,
    "pycharm": {
     "name": "#%%\n"
    }
   }
  },
  {
   "cell_type": "code",
   "execution_count": null,
   "outputs": [],
   "source": [
    "model.summary()"
   ],
   "metadata": {
    "collapsed": false,
    "pycharm": {
     "name": "#%%\n"
    }
   }
  },
  {
   "cell_type": "code",
   "execution_count": null,
   "outputs": [],
   "source": [
    "trainY=tf.one_hot(trainY,2)\n",
    "valY=tf.one_hot(valY,2)\n",
    "testY_m=tf.one_hot(testY,2)"
   ],
   "metadata": {
    "collapsed": false,
    "pycharm": {
     "name": "#%%\n"
    }
   }
  },
  {
   "cell_type": "code",
   "execution_count": null,
   "outputs": [],
   "source": [
    "history = model.fit(trainX_regularized, trainY, batch_size=64, epochs=3, validation_data=(valX_regularized, valY))"
   ],
   "metadata": {
    "collapsed": false,
    "pycharm": {
     "name": "#%%\n"
    }
   }
  },
  {
   "cell_type": "code",
   "execution_count": null,
   "outputs": [],
   "source": [
    "effect = model.evaluate(testX_regularized, testY_m)"
   ],
   "metadata": {
    "collapsed": false,
    "pycharm": {
     "name": "#%%\n"
    }
   }
  },
  {
   "cell_type": "code",
   "execution_count": null,
   "outputs": [],
   "source": [
    "#testX_regularized\n",
    "y_pred=model.predict(testX_regularized,batch_size=1)\n",
    "y_pred_label=[]\n",
    "for i in y_pred:\n",
    "    if i[0]>i[1]:\n",
    "        y_pred_label.append(0.0)\n",
    "    else:\n",
    "        y_pred_label.append(13.0)"
   ],
   "metadata": {
    "collapsed": false,
    "pycharm": {
     "name": "#%%\n"
    }
   }
  },
  {
   "cell_type": "code",
   "execution_count": null,
   "outputs": [],
   "source": [
    "right=0\n",
    "for loc in range (223972):\n",
    "    if testY[loc]==y_pred_label[loc]*1.0:\n",
    "        right+=1\n",
    "acc=right/223972\n",
    "print(acc)"
   ],
   "metadata": {
    "collapsed": false,
    "pycharm": {
     "name": "#%%\n"
    }
   }
  }
 ],
 "metadata": {
  "kernelspec": {
   "name": "pycharm-8bba76b",
   "language": "python",
   "display_name": "PyCharm (SGM-CNN)"
  },
  "language_info": {
   "codemirror_mode": {
    "name": "ipython",
    "version": 3
   },
   "file_extension": ".py",
   "mimetype": "text/x-python",
   "name": "python",
   "nbconvert_exporter": "python",
   "pygments_lexer": "ipython3",
   "version": "3.9.0"
  }
 },
 "nbformat": 4,
 "nbformat_minor": 1
}