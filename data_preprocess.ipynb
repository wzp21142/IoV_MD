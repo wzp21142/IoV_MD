{
 "cells": [
  {
   "cell_type": "code",
   "execution_count": 4,
   "metadata": {
    "collapsed": true
   },
   "outputs": [],
   "source": [
    "import pandas as pd\n",
    "import numpy as np\n",
    "import os\n",
    "import tarfile"
   ]
  },
  {
   "cell_type": "code",
   "execution_count": 5,
   "outputs": [],
   "source": [
    "data_path='J:/VeReMi-Dataset/000_Select_data'\n",
    "os.chdir(data_path)\n",
    "datalist=os.listdir(data_path)"
   ],
   "metadata": {
    "collapsed": false,
    "pycharm": {
     "name": "#%%\n"
    }
   }
  },
  {
   "cell_type": "code",
   "execution_count": 6,
   "outputs": [
    {
     "name": "stdout",
     "output_type": "stream",
     "text": [
      "VeReMi_25200_28800_2019-11-27_16-28-30.tar.gz\n"
     ]
    }
   ],
   "source": [
    "df_list=[]\n",
    "t=0\n",
    "label=[]\n",
    "for i in datalist:\n",
    "    tar = tarfile.open(i, \"r:gz\")\n",
    "    print(i)\n",
    "    for member in tar.getmembers():\n",
    "         f = tar.extractfile(member)\n",
    "         if member.name.find(\"Truth\")==-1:\n",
    "             if f is not None:\n",
    "                 label.append(int(member.name.split('/')[1].split('-')[3][1:]))\n",
    "                 t=pd.read_json(f.read(),lines=True)\n",
    "                 df_list.append(t)"
   ],
   "metadata": {
    "collapsed": false,
    "pycharm": {
     "name": "#%%\n"
    }
   }
  },
  {
   "cell_type": "code",
   "execution_count": 8,
   "outputs": [
    {
     "name": "stderr",
     "output_type": "stream",
     "text": [
      "C:\\Users\\41131\\AppData\\Roaming\\Python\\Python38\\site-packages\\numpy\\core\\_asarray.py:136: VisibleDeprecationWarning: Creating an ndarray from ragged nested sequences (which is a list-or-tuple of lists-or-tuples-or ndarrays with different lengths or shapes) is deprecated. If you meant to do this, you must specify 'dtype=object' when creating the ndarray\n",
      "  return array(a, dtype, copy=False, order=order, subok=True)\n"
     ]
    },
    {
     "data": {
      "text/plain": "'loc=0\\nfor i in dataset[1]:\\n    loc+=1\\n    if i == 0:\\n        normal.append(dataset[0][loc])\\n    elif i == 1:\\n        dos.append(dataset[0][loc])'"
     },
     "execution_count": 8,
     "metadata": {},
     "output_type": "execute_result"
    }
   ],
   "source": [
    "import numpy as np\n",
    "import gc\n",
    "normal=[]\n",
    "dos=[]\n",
    "dataset=np.vstack((df_list,label))\n",
    "#del df_list\n",
    "#gc.collect(df_list)\n",
    "'''loc=0\n",
    "for i in dataset[1]:\n",
    "    loc+=1\n",
    "    if i == 0:\n",
    "        normal.append(dataset[0][loc])\n",
    "    elif i == 1:\n",
    "        dos.append(dataset[0][loc])'''\n",
    "\n"
   ],
   "metadata": {
    "collapsed": false,
    "pycharm": {
     "name": "#%%\n"
    }
   }
  },
  {
   "cell_type": "code",
   "execution_count": 9,
   "outputs": [
    {
     "name": "stdout",
     "output_type": "stream",
     "text": [
      "test Sample:184.0\n",
      "val Sample:184.0\n",
      "train Sample:1475.0\n"
     ]
    }
   ],
   "source": [
    "ratio_train = 0.8 #训练集比例\n",
    "ratio_val = 0.1 #验证集比例\n",
    "ratio_test = 0.1 #测试集比例\n",
    "assert (ratio_train + ratio_val + ratio_val) == 1.0,'Total ratio Not equal to 1' ##检查总比例是否等于1\n",
    "cnt_test = round(dataset.shape[1] * ratio_test ,0)\n",
    "cnt_val = round(dataset.shape[1] * ratio_val ,0)\n",
    "cnt_train = dataset.shape[1] - cnt_test - cnt_val\n",
    "print(\"test Sample:\" + str(cnt_test))\n",
    "print(\"val Sample:\" + str(cnt_val))\n",
    "print(\"train Sample:\" + str(cnt_train))"
   ],
   "metadata": {
    "collapsed": false,
    "pycharm": {
     "name": "#%%\n"
    }
   }
  },
  {
   "cell_type": "code",
   "execution_count": 15,
   "outputs": [
    {
     "name": "stdout",
     "output_type": "stream",
     "text": [
      "1\n"
     ]
    }
   ],
   "source": [
    "np.random.shuffle(dataset) ##打乱列表\n",
    "train_list=[[]]\n",
    "val_list=[]\n",
    "test_list=[]\n",
    "t=dataset[:,1]\n",
    "for i in range(int(cnt_train)):\n",
    "    #np.append(train_list,dataset[:,i],axis=1)\n",
    "    train_list.append(dataset[:,i])\n",
    "for i in range(int(cnt_train) ,int(cnt_train + cnt_val)):\n",
    "    val_list.append(dataset[:,i])\n",
    "\n",
    "for i in range(int(cnt_train + cnt_val) ,int(cnt_train + cnt_val + cnt_test)):\n",
    "    test_list.append(dataset[:,i])\n",
    "print(1)\n",
    "#del dataset\n",
    "#gc.collect(dataset)\n",
    "del(train_list[0])\n",
    "del(val_list[0])\n",
    "del(test_list[0])"
   ],
   "metadata": {
    "collapsed": false,
    "pycharm": {
     "name": "#%%\n"
    }
   }
  },
  {
   "cell_type": "code",
   "execution_count": 16,
   "outputs": [],
   "source": [
    "np.save('train.npy',train_list)\n",
    "np.save('val.npy',val_list)\n",
    "np.save('test.npy',test_list)"
   ],
   "metadata": {
    "collapsed": false,
    "pycharm": {
     "name": "#%%\n"
    }
   }
  }
 ],
 "metadata": {
  "kernelspec": {
   "name": "pycharm-8bba76b",
   "language": "python",
   "display_name": "PyCharm (SGM-CNN)"
  },
  "language_info": {
   "codemirror_mode": {
    "name": "ipython",
    "version": 2
   },
   "file_extension": ".py",
   "mimetype": "text/x-python",
   "name": "python",
   "nbconvert_exporter": "python",
   "pygments_lexer": "ipython2",
   "version": "2.7.6"
  }
 },
 "nbformat": 4,
 "nbformat_minor": 0
}