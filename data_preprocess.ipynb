{
 "cells": [
  {
   "cell_type": "code",
   "execution_count": 1,
   "metadata": {
    "collapsed": true
   },
   "outputs": [],
   "source": [
    "import pandas as pd\n",
    "import numpy as np\n",
    "import os\n",
    "import tarfile"
   ]
  },
  {
   "cell_type": "code",
   "execution_count": 2,
   "outputs": [],
   "source": [
    "data_path='J:/VeReMi-Dataset/MixAll_0024'\n",
    "os.chdir(data_path)\n",
    "datalist=os.listdir(data_path)"
   ],
   "metadata": {
    "collapsed": false,
    "pycharm": {
     "name": "#%%\n"
    }
   }
  },
  {
   "cell_type": "code",
   "execution_count": 5,
   "outputs": [
    {
     "name": "stdout",
     "output_type": "stream",
     "text": [
      "VeReMi_0_3600_2019-11-28_13:20:6/traceJSON-105-103-A0-1162-0.json\n",
      "VeReMi_0_3600_2019-11-28_13:20:6/traceJSON-57-55-A0-776-0.json\n",
      "VeReMi_0_3600_2019-11-28_13:20:6/traceJSON-135-133-A5-1398-0.json\n",
      "VeReMi_0_3600_2019-11-28_13:20:6/traceJSON-249-247-A0-2802-0.json\n",
      "VeReMi_0_3600_2019-11-28_13:20:6/traceJSON-207-205-A0-2313-0.json\n",
      "VeReMi_0_3600_2019-11-28_13:20:6/traceJSON-171-169-A4-1722-0.json\n",
      "VeReMi_0_3600_2019-11-28_13:20:6/traceJSON-93-91-A18-984-0.json\n",
      "VeReMi_0_3600_2019-11-28_13:20:6/traceJSON-183-181-A0-1747-0.json\n",
      "VeReMi_0_3600_2019-11-28_13:20:6/traceJSON-213-211-A15-2361-0.json\n",
      "VeReMi_0_3600_2019-11-28_13:20:6/traceJSON-231-229-A6-2622-0.json\n",
      "VeReMi_0_3600_2019-11-28_13:20:6/traceJSON-99-97-A0-988-0.json\n",
      "VeReMi_0_3600_2019-11-28_13:20:6/traceJSON-141-139-A0-1467-0.json\n",
      "VeReMi_0_3600_2019-11-28_13:20:6/traceJSON-39-37-A0-633-0.json\n",
      "VeReMi_0_3600_2019-11-28_13:20:6/traceJSON-69-67-A0-881-0.json\n",
      "VeReMi_0_3600_2019-11-28_13:20:6/traceJSON-111-109-A2-1208-0.json\n",
      "VeReMi_0_3600_2019-11-28_13:20:6/traceJSON-177-175-A0-1745-0.json\n",
      "VeReMi_0_3600_2019-11-28_13:20:6/traceJSON-255-253-A8-2825-0.json\n",
      "VeReMi_0_3600_2019-11-28_13:20:6/traceJSON-27-25-A0-523-0.json\n",
      "VeReMi_0_3600_2019-11-28_13:20:6/traceJSON-165-163-A0-1615-0.json\n",
      "VeReMi_0_3600_2019-11-28_13:20:6/traceJSON-285-283-A0-3222-0.json\n",
      "VeReMi_0_3600_2019-11-28_13:20:6/traceJSON-87-85-A0-950-0.json\n",
      "VeReMi_0_3600_2019-11-28_13:20:6/traceJSON-129-127-A0-1397-0.json\n",
      "VeReMi_0_3600_2019-11-28_13:20:6/traceJSON-159-157-A0-1588-0.json\n",
      "VeReMi_0_3600_2019-11-28_13:20:6/traceJSON-195-193-A17-1854-0.json\n",
      "VeReMi_0_3600_2019-11-28_13:20:6/traceJSON-123-121-A0-1364-0.json\n",
      "VeReMi_0_3600_2019-11-28_13:20:6/traceJSON-303-301-A0-3564-0.json\n",
      "VeReMi_0_3600_2019-11-28_13:20:6/traceJSON-117-115-A0-1343-0.json\n",
      "VeReMi_0_3600_2019-11-28_13:20:6/traceJSON-189-187-A0-1816-0.json\n",
      "VeReMi_0_3600_2019-11-28_13:20:6/traceJSON-153-151-A13-1538-0.json\n",
      "VeReMi_0_3600_2019-11-28_13:20:6/traceJSON-237-235-A0-2648-0.json\n",
      "VeReMi_0_3600_2019-11-28_13:20:6/traceJSON-225-223-A0-2582-0.json\n",
      "VeReMi_0_3600_2019-11-28_13:20:6/traceJSON-51-49-A3-754-0.json\n",
      "VeReMi_0_3600_2019-11-28_13:20:6/traceJSON-201-199-A0-1858-0.json\n",
      "VeReMi_0_3600_2019-11-28_13:20:6/traceJSON-33-31-A10-578-0.json\n",
      "VeReMi_0_3600_2019-11-28_13:20:6/traceJSON-273-271-A9-3150-0.json\n",
      "VeReMi_0_3600_2019-11-28_13:20:6/traceJSON-147-145-A0-1478-0.json\n",
      "VeReMi_0_3600_2019-11-28_13:20:6/traceJSON-279-277-A0-3153-0.json\n",
      "VeReMi_0_3600_2019-11-28_13:20:6/traceJSON-243-241-A0-2726-0.json\n",
      "VeReMi_0_3600_2019-11-28_13:20:6/traceJSON-9-7-A0-240-0.json\n",
      "VeReMi_0_3600_2019-11-28_13:20:6/traceJSON-63-61-A0-836-0.json\n",
      "VeReMi_0_3600_2019-11-28_13:20:6/traceJSON-81-79-A0-907-0.json\n",
      "VeReMi_0_3600_2019-11-28_13:20:6/traceJSON-291-289-A19-3334-0.json\n",
      "VeReMi_0_3600_2019-11-28_13:20:6/traceJSON-75-73-A12-887-0.json\n",
      "VeReMi_0_3600_2019-11-28_13:20:6/traceJSON-15-13-A1-302-0.json\n",
      "VeReMi_0_3600_2019-11-28_13:20:6/traceJSON-219-217-A0-2462-0.json\n",
      "VeReMi_0_3600_2019-11-28_13:20:6/traceJSON-267-265-A0-2864-0.json\n",
      "VeReMi_0_3600_2019-11-28_13:20:6/traceJSON-45-43-A0-662-0.json\n",
      "VeReMi_0_3600_2019-11-28_13:20:6/traceJSON-297-295-A0-3472-0.json\n",
      "VeReMi_0_3600_2019-11-28_13:20:6/traceJSON-261-259-A0-2863-0.json\n",
      "VeReMi_0_3600_2019-11-28_13:20:6/traceJSON-21-19-A0-435-0.json\n"
     ]
    }
   ],
   "source": [
    "df=[]\n",
    "t=0\n",
    "tar = tarfile.open(datalist[0], \"r:gz\")\n",
    "for member in tar.getmembers():\n",
    "     f = tar.extractfile(member)\n",
    "     if member.name.find(\"Truth\")==-1:\n",
    "         if f is not None:\n",
    "             print(member.name)\n",
    "             t=pd.read_json(f.read(),lines=True)\n",
    "             df.append(t)"
   ],
   "metadata": {
    "collapsed": false,
    "pycharm": {
     "name": "#%%\n"
    }
   }
  },
  {
   "cell_type": "code",
   "execution_count": 12,
   "outputs": [],
   "source": [
    "\n",
    "def get_info(bucket_list):\n",
    "    result=[]\n",
    "    for i in df:\n",
    "        result.append(i[bucket_list])\n",
    "    return result\n",
    "test=get_info(['type','rcvTime'])"
   ],
   "metadata": {
    "collapsed": false,
    "pycharm": {
     "name": "#%%\n"
    }
   }
  }
 ],
 "metadata": {
  "kernelspec": {
   "name": "pycharm-8bba76b",
   "language": "python",
   "display_name": "PyCharm (SGM-CNN)"
  },
  "language_info": {
   "codemirror_mode": {
    "name": "ipython",
    "version": 2
   },
   "file_extension": ".py",
   "mimetype": "text/x-python",
   "name": "python",
   "nbconvert_exporter": "python",
   "pygments_lexer": "ipython2",
   "version": "2.7.6"
  }
 },
 "nbformat": 4,
 "nbformat_minor": 0
}