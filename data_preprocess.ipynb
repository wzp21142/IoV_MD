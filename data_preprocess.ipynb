{
 "cells": [
  {
   "cell_type": "code",
   "execution_count": 1,
   "metadata": {
    "collapsed": true
   },
   "outputs": [],
   "source": [
    "import pandas as pd\n",
    "import numpy as np\n",
    "import os\n",
    "import tarfile"
   ]
  },
  {
   "cell_type": "code",
   "execution_count": 2,
   "outputs": [],
   "source": [
    "data_path='J:/VeReMi-Dataset/000_Select_data'\n",
    "os.chdir(data_path)\n",
    "datalist=os.listdir(data_path)"
   ],
   "metadata": {
    "collapsed": false,
    "pycharm": {
     "name": "#%%\n"
    }
   }
  },
  {
   "cell_type": "code",
   "execution_count": 3,
   "outputs": [
    {
     "name": "stdout",
     "output_type": "stream",
     "text": [
      "VeReMi_25200_28800_2019-11-27_16-28-30.tar.gz\n"
     ]
    }
   ],
   "source": [
    "df_list=[]\n",
    "t=0\n",
    "label=[]\n",
    "for i in datalist:\n",
    "    tar = tarfile.open(i, \"r:gz\")\n",
    "    print(i)\n",
    "    for member in tar.getmembers():\n",
    "         f = tar.extractfile(member)\n",
    "         if member.name.find(\"Truth\")==-1:\n",
    "             if f is not None:\n",
    "                 label.append(int(member.name.split('/')[1].split('-')[3][1:]))\n",
    "                 t=pd.read_json(f.read(),lines=True)\n",
    "                 df_list.append(t)"
   ],
   "metadata": {
    "collapsed": false,
    "pycharm": {
     "name": "#%%\n"
    }
   }
  },
  {
   "cell_type": "code",
   "execution_count": 5,
   "outputs": [],
   "source": [
    "def get_info(bucket_list,data_label_df):\n",
    "    result=[]\n",
    "    for i in data_label_df:\n",
    "        result.append(i[bucket_list])\n",
    "    return result\n",
    "#test=get_info(['type','rcvTime'])"
   ],
   "metadata": {
    "collapsed": false,
    "pycharm": {
     "name": "#%%\n"
    }
   }
  },
  {
   "cell_type": "code",
   "execution_count": 6,
   "outputs": [
    {
     "name": "stderr",
     "output_type": "stream",
     "text": [
      "C:\\Users\\41131\\AppData\\Roaming\\Python\\Python38\\site-packages\\numpy\\core\\_asarray.py:136: VisibleDeprecationWarning: Creating an ndarray from ragged nested sequences (which is a list-or-tuple of lists-or-tuples-or ndarrays with different lengths or shapes) is deprecated. If you meant to do this, you must specify 'dtype=object' when creating the ndarray\n",
      "  return array(a, dtype, copy=False, order=order, subok=True)\n"
     ]
    },
    {
     "data": {
      "text/plain": "'loc=0\\nfor i in dataset[1]:\\n    loc+=1\\n    if i == 0:\\n        normal.append(dataset[0][loc])\\n    elif i == 1:\\n        dos.append(dataset[0][loc])'"
     },
     "execution_count": 6,
     "metadata": {},
     "output_type": "execute_result"
    }
   ],
   "source": [
    "import numpy as np\n",
    "import gc\n",
    "normal=[]\n",
    "dos=[]\n",
    "dataset=np.vstack((df_list,label))\n",
    "#del df_list\n",
    "#gc.collect(df_list)\n",
    "'''loc=0\n",
    "for i in dataset[1]:\n",
    "    loc+=1\n",
    "    if i == 0:\n",
    "        normal.append(dataset[0][loc])\n",
    "    elif i == 1:\n",
    "        dos.append(dataset[0][loc])'''\n",
    "\n"
   ],
   "metadata": {
    "collapsed": false,
    "pycharm": {
     "name": "#%%\n"
    }
   }
  },
  {
   "cell_type": "code",
   "execution_count": 8,
   "outputs": [
    {
     "name": "stdout",
     "output_type": "stream",
     "text": [
      "test Sample:184.0\n",
      "val Sample:184.0\n",
      "train Sample:1475.0\n"
     ]
    }
   ],
   "source": [
    "ratio_train = 0.8 #训练集比例\n",
    "ratio_val = 0.1 #验证集比例\n",
    "ratio_test = 0.1 #测试集比例\n",
    "assert (ratio_train + ratio_val + ratio_val) == 1.0,'Total ratio Not equal to 1' ##检查总比例是否等于1\n",
    "cnt_test = round(dataset.shape[1] * ratio_test ,0)\n",
    "cnt_val = round(dataset.shape[1] * ratio_val ,0)\n",
    "cnt_train = dataset.shape[1] - cnt_test - cnt_val\n",
    "print(\"test Sample:\" + str(cnt_test))\n",
    "print(\"val Sample:\" + str(cnt_val))\n",
    "print(\"train Sample:\" + str(cnt_train))"
   ],
   "metadata": {
    "collapsed": false,
    "pycharm": {
     "name": "#%%\n"
    }
   }
  },
  {
   "cell_type": "code",
   "execution_count": 36,
   "outputs": [
    {
     "ename": "AxisError",
     "evalue": "axis 1 is out of bounds for array of dimension 1",
     "output_type": "error",
     "traceback": [
      "\u001B[1;31m---------------------------------------------------------------------------\u001B[0m",
      "\u001B[1;31mAxisError\u001B[0m                                 Traceback (most recent call last)",
      "\u001B[1;32m<ipython-input-36-51c25b9d0d9b>\u001B[0m in \u001B[0;36m<module>\u001B[1;34m\u001B[0m\n\u001B[0;32m      5\u001B[0m \u001B[0mt\u001B[0m\u001B[1;33m=\u001B[0m\u001B[0mdataset\u001B[0m\u001B[1;33m[\u001B[0m\u001B[1;33m:\u001B[0m\u001B[1;33m,\u001B[0m\u001B[1;36m1\u001B[0m\u001B[1;33m]\u001B[0m\u001B[1;33m\u001B[0m\u001B[1;33m\u001B[0m\u001B[0m\n\u001B[0;32m      6\u001B[0m \u001B[1;32mfor\u001B[0m \u001B[0mi\u001B[0m \u001B[1;32min\u001B[0m \u001B[0mrange\u001B[0m\u001B[1;33m(\u001B[0m\u001B[0mint\u001B[0m\u001B[1;33m(\u001B[0m\u001B[0mcnt_train\u001B[0m\u001B[1;33m)\u001B[0m\u001B[1;33m)\u001B[0m\u001B[1;33m:\u001B[0m\u001B[1;33m\u001B[0m\u001B[1;33m\u001B[0m\u001B[0m\n\u001B[1;32m----> 7\u001B[1;33m     \u001B[0mnp\u001B[0m\u001B[1;33m.\u001B[0m\u001B[0mappend\u001B[0m\u001B[1;33m(\u001B[0m\u001B[0mtrain_list\u001B[0m\u001B[1;33m[\u001B[0m\u001B[0mi\u001B[0m\u001B[1;33m]\u001B[0m\u001B[1;33m,\u001B[0m\u001B[0mdataset\u001B[0m\u001B[1;33m[\u001B[0m\u001B[1;33m:\u001B[0m\u001B[1;33m,\u001B[0m\u001B[0mi\u001B[0m\u001B[1;33m]\u001B[0m\u001B[1;33m,\u001B[0m\u001B[0maxis\u001B[0m\u001B[1;33m=\u001B[0m\u001B[1;36m1\u001B[0m\u001B[1;33m)\u001B[0m\u001B[1;33m\u001B[0m\u001B[1;33m\u001B[0m\u001B[0m\n\u001B[0m\u001B[0;32m      8\u001B[0m \u001B[1;33m\u001B[0m\u001B[0m\n\u001B[0;32m      9\u001B[0m \u001B[1;32mfor\u001B[0m \u001B[0mi\u001B[0m \u001B[1;32min\u001B[0m \u001B[0mrange\u001B[0m\u001B[1;33m(\u001B[0m\u001B[0mint\u001B[0m\u001B[1;33m(\u001B[0m\u001B[0mcnt_train\u001B[0m\u001B[1;33m)\u001B[0m \u001B[1;33m,\u001B[0m\u001B[0mint\u001B[0m\u001B[1;33m(\u001B[0m\u001B[0mcnt_train\u001B[0m \u001B[1;33m+\u001B[0m \u001B[0mcnt_val\u001B[0m\u001B[1;33m)\u001B[0m\u001B[1;33m)\u001B[0m\u001B[1;33m:\u001B[0m\u001B[1;33m\u001B[0m\u001B[1;33m\u001B[0m\u001B[0m\n",
      "\u001B[1;32m<__array_function__ internals>\u001B[0m in \u001B[0;36mappend\u001B[1;34m(*args, **kwargs)\u001B[0m\n",
      "\u001B[1;32m~\\AppData\\Roaming\\Python\\Python38\\site-packages\\numpy\\lib\\function_base.py\u001B[0m in \u001B[0;36mappend\u001B[1;34m(arr, values, axis)\u001B[0m\n\u001B[0;32m   4669\u001B[0m         \u001B[0mvalues\u001B[0m \u001B[1;33m=\u001B[0m \u001B[0mravel\u001B[0m\u001B[1;33m(\u001B[0m\u001B[0mvalues\u001B[0m\u001B[1;33m)\u001B[0m\u001B[1;33m\u001B[0m\u001B[1;33m\u001B[0m\u001B[0m\n\u001B[0;32m   4670\u001B[0m         \u001B[0maxis\u001B[0m \u001B[1;33m=\u001B[0m \u001B[0marr\u001B[0m\u001B[1;33m.\u001B[0m\u001B[0mndim\u001B[0m\u001B[1;33m-\u001B[0m\u001B[1;36m1\u001B[0m\u001B[1;33m\u001B[0m\u001B[1;33m\u001B[0m\u001B[0m\n\u001B[1;32m-> 4671\u001B[1;33m     \u001B[1;32mreturn\u001B[0m \u001B[0mconcatenate\u001B[0m\u001B[1;33m(\u001B[0m\u001B[1;33m(\u001B[0m\u001B[0marr\u001B[0m\u001B[1;33m,\u001B[0m \u001B[0mvalues\u001B[0m\u001B[1;33m)\u001B[0m\u001B[1;33m,\u001B[0m \u001B[0maxis\u001B[0m\u001B[1;33m=\u001B[0m\u001B[0maxis\u001B[0m\u001B[1;33m)\u001B[0m\u001B[1;33m\u001B[0m\u001B[1;33m\u001B[0m\u001B[0m\n\u001B[0m\u001B[0;32m   4672\u001B[0m \u001B[1;33m\u001B[0m\u001B[0m\n\u001B[0;32m   4673\u001B[0m \u001B[1;33m\u001B[0m\u001B[0m\n",
      "\u001B[1;32m<__array_function__ internals>\u001B[0m in \u001B[0;36mconcatenate\u001B[1;34m(*args, **kwargs)\u001B[0m\n",
      "\u001B[1;31mAxisError\u001B[0m: axis 1 is out of bounds for array of dimension 1"
     ]
    }
   ],
   "source": [
    "np.random.shuffle(dataset) ##打乱列表\n",
    "train_list=[[]]\n",
    "val_list=[[]]\n",
    "test_list=[[]]\n",
    "t=dataset[:,1]\n",
    "for i in range(int(cnt_train)):\n",
    "    np.append(train_list[i],dataset[:,i],axis=1)\n",
    "\n",
    "for i in range(int(cnt_train) ,int(cnt_train + cnt_val)):\n",
    "    np.append(val_list[i],dataset[:,i],axis=1)\n",
    "\n",
    "for i in range(int(cnt_train + cnt_val) ,int(cnt_train + cnt_val + cnt_test)):\n",
    "    np.append(test_list[i],dataset[:,i],axis=1)\n",
    "print(1)\n",
    "#del dataset\n",
    "#gc.collect(dataset)"
   ],
   "metadata": {
    "collapsed": false,
    "pycharm": {
     "name": "#%%\n"
    }
   }
  }
 ],
 "metadata": {
  "kernelspec": {
   "name": "pycharm-8bba76b",
   "language": "python",
   "display_name": "PyCharm (SGM-CNN)"
  },
  "language_info": {
   "codemirror_mode": {
    "name": "ipython",
    "version": 2
   },
   "file_extension": ".py",
   "mimetype": "text/x-python",
   "name": "python",
   "nbconvert_exporter": "python",
   "pygments_lexer": "ipython2",
   "version": "2.7.6"
  }
 },
 "nbformat": 4,
 "nbformat_minor": 0
}