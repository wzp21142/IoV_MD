{
 "cells": [
  {
   "cell_type": "code",
   "execution_count": null,
   "outputs": [],
   "source": [
    "import pandas as pd\n",
    "import numpy as np\n",
    "import os\n",
    "import tarfile\n"
   ],
   "metadata": {
    "collapsed": false,
    "pycharm": {
     "name": "#%%\n"
    }
   }
  },
  {
   "cell_type": "code",
   "execution_count": null,
   "outputs": [],
   "source": [
    "def read_raw_file(data_path):\n",
    "    os.chdir(data_path)\n",
    "    datalist = [i for i in os.listdir() if '.tar.gz' in i]\n",
    "    first = True\n",
    "    dataset = None\n",
    "    for i in datalist:\n",
    "        tar = tarfile.open(i, \"r:gz\")\n",
    "        print(i)\n",
    "        print(tar.getmembers)\n",
    "        for member in tar.getmembers():\n",
    "            f = tar.extractfile(member)\n",
    "            if member.name.find(\"Truth\") == -1:\n",
    "                if f is not None:\n",
    "                    label = []\n",
    "                    OMNet_id = []\n",
    "                    label_s = int(member.name.split('/')[1].split('-')[3][1:])\n",
    "                    OMNet_id_s = int(member.name.split('/')[1].split('-')[2])\n",
    "                    t = pd.read_json(f.read(), lines=True)\n",
    "                    for _ in range(len(t)):\n",
    "                        label.append(label_s)\n",
    "                        OMNet_id.append(OMNet_id_s)\n",
    "                    split_data(t)\n",
    "                    t['OMNet_id'] = OMNet_id\n",
    "                    t['label'] = label\n",
    "                    if not first:\n",
    "                        dataset = pd.concat([dataset, t], axis=0, join='inner')\n",
    "                    else:\n",
    "                        dataset = t\n",
    "                        first = False\n",
    "    return dataset\n",
    "\n",
    "\n",
    "def split_data(dataframe):\n",
    "    for col in dataframe:\n",
    "        try:\n",
    "            for i in range(len(dataframe[col].values[0])):\n",
    "                t_list = []\n",
    "                for j in dataframe[col].values:\n",
    "                    t_list.append(j[i])\n",
    "                dataframe[col + chr(88 + i)] = t_list\n",
    "            dataframe.drop(col, axis=1, inplace=True)\n",
    "        except TypeError:\n",
    "            continue\n",
    "\n",
    "\n",
    "def data_convert(data):  # 数据正则与空值填充\n",
    "    columns = data.columns.tolist()\n",
    "    for c in columns:\n",
    "        if c != 'type' and c != 'OMNet_id' and c != 'label':\n",
    "            d = data[c]\n",
    "            max_ = d.max()\n",
    "            min_ = d.min()\n",
    "            data[c] = ((d - min_) / (max_ - min_)).tolist()\n",
    "    data.fillna(0.0, inplace=True)\n",
    "    return np.array(data.iloc[:, :-1]), np.array(data.iloc[:, -1:])\n"
   ],
   "metadata": {
    "collapsed": false,
    "pycharm": {
     "name": "#%%\n"
    }
   }
  },
  {
   "cell_type": "code",
   "execution_count": null,
   "outputs": [],
   "source": [
    "data_path = 'VeReMi-Dataset/000_Select_data'\n",
    "dataset = read_raw_file(data_path)\n",
    "\n",
    "ratio_train = 0.8  # 训练集比例\n",
    "ratio_val = 0.1  # 验证集比例\n",
    "ratio_test = 1 - ratio_train - ratio_val  # 测试集比例\n",
    "train_set = dataset.sample(frac=ratio_train, replace=False)\n",
    "val_set = dataset.sample(frac=ratio_val, replace=False)\n",
    "test_set = dataset.sample(frac=ratio_test, replace=False)\n",
    "print(\"train sample ratio: \" + str(ratio_train))\n",
    "print(\"val sample ratio: \" + str(ratio_val))\n",
    "print(\"test sample ratio: \" + str(ratio_test))\n",
    "\n",
    "trainX, trainY = data_convert(train_set)\n",
    "valX, valY = data_convert(val_set)\n",
    "testX, testY = data_convert(test_set)\n",
    "\n",
    "np.save('trainX_processed.npy', trainX)\n",
    "np.save('trainY_processed.npy', trainY)\n",
    "np.save('valX_processed.npy', valX)\n",
    "np.save('valY_processed.npy', valY)\n",
    "np.save('testX_processed.npy', testX)\n",
    "np.save('testY_processed.npy', testY)"
   ],
   "metadata": {
    "collapsed": false,
    "pycharm": {
     "name": "#%%\n"
    }
   }
  }
 ],
 "metadata": {
  "kernelspec": {
   "display_name": "Python 3",
   "language": "python",
   "name": "python3"
  },
  "language_info": {
   "codemirror_mode": {
    "name": "ipython",
    "version": 3
   },
   "file_extension": ".py",
   "mimetype": "text/x-python",
   "name": "python",
   "nbconvert_exporter": "python",
   "pygments_lexer": "ipython3",
   "version": "3.9.0"
  }
 },
 "nbformat": 4,
 "nbformat_minor": 1
}